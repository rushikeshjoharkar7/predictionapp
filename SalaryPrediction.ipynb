{
 "cells": [
  {
   "cell_type": "code",
   "execution_count": 1,
   "id": "8b11fd46",
   "metadata": {},
   "outputs": [],
   "source": [
    "import pandas as pd\n",
    "import numpy as np\n",
    "import matplotlib.pyplot as plt\n",
    "\n",
    "data = pd.read_csv(\"fibre_properties.csv\")"
   ]
  },
  {
   "cell_type": "code",
   "execution_count": 2,
   "id": "0a94c801",
   "metadata": {},
   "outputs": [
    {
     "data": {
      "text/html": [
       "<div>\n",
       "<style scoped>\n",
       "    .dataframe tbody tr th:only-of-type {\n",
       "        vertical-align: middle;\n",
       "    }\n",
       "\n",
       "    .dataframe tbody tr th {\n",
       "        vertical-align: top;\n",
       "    }\n",
       "\n",
       "    .dataframe thead th {\n",
       "        text-align: right;\n",
       "    }\n",
       "</style>\n",
       "<table border=\"1\" class=\"dataframe\">\n",
       "  <thead>\n",
       "    <tr style=\"text-align: right;\">\n",
       "      <th></th>\n",
       "      <th>Sr.No</th>\n",
       "      <th>2.5% span length (mm)</th>\n",
       "      <th>UR (%)</th>\n",
       "      <th>Fineness (ug/inch)</th>\n",
       "      <th>Bundle Strength (cN/tex)</th>\n",
       "      <th>Trash content (%)</th>\n",
       "      <th>Yarn Count (tex)</th>\n",
       "    </tr>\n",
       "  </thead>\n",
       "  <tbody>\n",
       "    <tr>\n",
       "      <th>0</th>\n",
       "      <td>1</td>\n",
       "      <td>28.32</td>\n",
       "      <td>49.6</td>\n",
       "      <td>4.18</td>\n",
       "      <td>22.25</td>\n",
       "      <td>5.32</td>\n",
       "      <td>36.91</td>\n",
       "    </tr>\n",
       "    <tr>\n",
       "      <th>1</th>\n",
       "      <td>2</td>\n",
       "      <td>27.98</td>\n",
       "      <td>49.6</td>\n",
       "      <td>3.80</td>\n",
       "      <td>21.84</td>\n",
       "      <td>5.60</td>\n",
       "      <td>36.91</td>\n",
       "    </tr>\n",
       "    <tr>\n",
       "      <th>2</th>\n",
       "      <td>3</td>\n",
       "      <td>28.53</td>\n",
       "      <td>48.0</td>\n",
       "      <td>4.50</td>\n",
       "      <td>22.17</td>\n",
       "      <td>6.30</td>\n",
       "      <td>36.91</td>\n",
       "    </tr>\n",
       "    <tr>\n",
       "      <th>3</th>\n",
       "      <td>4</td>\n",
       "      <td>29.58</td>\n",
       "      <td>50.0</td>\n",
       "      <td>4.24</td>\n",
       "      <td>22.17</td>\n",
       "      <td>5.38</td>\n",
       "      <td>36.91</td>\n",
       "    </tr>\n",
       "    <tr>\n",
       "      <th>4</th>\n",
       "      <td>5</td>\n",
       "      <td>29.20</td>\n",
       "      <td>50.5</td>\n",
       "      <td>4.25</td>\n",
       "      <td>22.27</td>\n",
       "      <td>5.30</td>\n",
       "      <td>36.91</td>\n",
       "    </tr>\n",
       "  </tbody>\n",
       "</table>\n",
       "</div>"
      ],
      "text/plain": [
       "   Sr.No  2.5% span length (mm)  UR (%)  Fineness (ug/inch)  \\\n",
       "0      1                  28.32    49.6                4.18   \n",
       "1      2                  27.98    49.6                3.80   \n",
       "2      3                  28.53    48.0                4.50   \n",
       "3      4                  29.58    50.0                4.24   \n",
       "4      5                  29.20    50.5                4.25   \n",
       "\n",
       "   Bundle Strength (cN/tex)  Trash content (%)  Yarn Count (tex)  \n",
       "0                     22.25               5.32             36.91  \n",
       "1                     21.84               5.60             36.91  \n",
       "2                     22.17               6.30             36.91  \n",
       "3                     22.17               5.38             36.91  \n",
       "4                     22.27               5.30             36.91  "
      ]
     },
     "execution_count": 2,
     "metadata": {},
     "output_type": "execute_result"
    }
   ],
   "source": [
    "data.head()"
   ]
  },
  {
   "cell_type": "code",
   "execution_count": 3,
   "id": "2e754e05",
   "metadata": {},
   "outputs": [
    {
     "data": {
      "text/html": [
       "<div>\n",
       "<style scoped>\n",
       "    .dataframe tbody tr th:only-of-type {\n",
       "        vertical-align: middle;\n",
       "    }\n",
       "\n",
       "    .dataframe tbody tr th {\n",
       "        vertical-align: top;\n",
       "    }\n",
       "\n",
       "    .dataframe thead th {\n",
       "        text-align: right;\n",
       "    }\n",
       "</style>\n",
       "<table border=\"1\" class=\"dataframe\">\n",
       "  <thead>\n",
       "    <tr style=\"text-align: right;\">\n",
       "      <th></th>\n",
       "      <th>Sr.No</th>\n",
       "      <th>2.5% span length (mm)</th>\n",
       "      <th>UR (%)</th>\n",
       "      <th>Fineness (ug/inch)</th>\n",
       "      <th>Bundle Strength (cN/tex)</th>\n",
       "      <th>Trash content (%)</th>\n",
       "      <th>Yarn Count (tex)</th>\n",
       "    </tr>\n",
       "  </thead>\n",
       "  <tbody>\n",
       "    <tr>\n",
       "      <th>0</th>\n",
       "      <td>1</td>\n",
       "      <td>28.32</td>\n",
       "      <td>49.6</td>\n",
       "      <td>4.18</td>\n",
       "      <td>22.25</td>\n",
       "      <td>5.32</td>\n",
       "      <td>36.91</td>\n",
       "    </tr>\n",
       "    <tr>\n",
       "      <th>1</th>\n",
       "      <td>2</td>\n",
       "      <td>27.98</td>\n",
       "      <td>49.6</td>\n",
       "      <td>3.80</td>\n",
       "      <td>21.84</td>\n",
       "      <td>5.60</td>\n",
       "      <td>36.91</td>\n",
       "    </tr>\n",
       "    <tr>\n",
       "      <th>2</th>\n",
       "      <td>3</td>\n",
       "      <td>28.53</td>\n",
       "      <td>48.0</td>\n",
       "      <td>4.50</td>\n",
       "      <td>22.17</td>\n",
       "      <td>6.30</td>\n",
       "      <td>36.91</td>\n",
       "    </tr>\n",
       "    <tr>\n",
       "      <th>3</th>\n",
       "      <td>4</td>\n",
       "      <td>29.58</td>\n",
       "      <td>50.0</td>\n",
       "      <td>4.24</td>\n",
       "      <td>22.17</td>\n",
       "      <td>5.38</td>\n",
       "      <td>36.91</td>\n",
       "    </tr>\n",
       "    <tr>\n",
       "      <th>4</th>\n",
       "      <td>5</td>\n",
       "      <td>29.20</td>\n",
       "      <td>50.5</td>\n",
       "      <td>4.25</td>\n",
       "      <td>22.27</td>\n",
       "      <td>5.30</td>\n",
       "      <td>36.91</td>\n",
       "    </tr>\n",
       "  </tbody>\n",
       "</table>\n",
       "</div>"
      ],
      "text/plain": [
       "   Sr.No  2.5% span length (mm)  UR (%)  Fineness (ug/inch)  \\\n",
       "0      1                  28.32    49.6                4.18   \n",
       "1      2                  27.98    49.6                3.80   \n",
       "2      3                  28.53    48.0                4.50   \n",
       "3      4                  29.58    50.0                4.24   \n",
       "4      5                  29.20    50.5                4.25   \n",
       "\n",
       "   Bundle Strength (cN/tex)  Trash content (%)  Yarn Count (tex)  \n",
       "0                     22.25               5.32             36.91  \n",
       "1                     21.84               5.60             36.91  \n",
       "2                     22.17               6.30             36.91  \n",
       "3                     22.17               5.38             36.91  \n",
       "4                     22.27               5.30             36.91  "
      ]
     },
     "execution_count": 3,
     "metadata": {},
     "output_type": "execute_result"
    }
   ],
   "source": [
    "pd.set_option('display.max_columns',None)\n",
    "data.head()"
   ]
  },
  {
   "cell_type": "code",
   "execution_count": 4,
   "id": "c7653efa",
   "metadata": {},
   "outputs": [
    {
     "name": "stdout",
     "output_type": "stream",
     "text": [
      "<class 'pandas.core.frame.DataFrame'>\n",
      "RangeIndex: 20 entries, 0 to 19\n",
      "Data columns (total 7 columns):\n",
      " #   Column                    Non-Null Count  Dtype  \n",
      "---  ------                    --------------  -----  \n",
      " 0   Sr.No                     20 non-null     int64  \n",
      " 1   2.5% span length (mm)     20 non-null     float64\n",
      " 2   UR (%)                    20 non-null     float64\n",
      " 3   Fineness (ug/inch)        20 non-null     float64\n",
      " 4   Bundle Strength (cN/tex)  20 non-null     float64\n",
      " 5   Trash content (%)         20 non-null     float64\n",
      " 6   Yarn Count (tex)          20 non-null     float64\n",
      "dtypes: float64(6), int64(1)\n",
      "memory usage: 1.2 KB\n"
     ]
    }
   ],
   "source": [
    "data.info()"
   ]
  },
  {
   "cell_type": "code",
   "execution_count": 5,
   "id": "1c0a8af1",
   "metadata": {},
   "outputs": [
    {
     "data": {
      "text/plain": [
       "28.80    8\n",
       "36.91    6\n",
       "29.53    6\n",
       "Name: Yarn Count (tex), dtype: int64"
      ]
     },
     "execution_count": 5,
     "metadata": {},
     "output_type": "execute_result"
    }
   ],
   "source": [
    "data[\"Yarn Count (tex)\"].value_counts()"
   ]
  },
  {
   "cell_type": "code",
   "execution_count": 6,
   "id": "c1c2b6f7",
   "metadata": {},
   "outputs": [
    {
     "data": {
      "text/plain": [
       "(20, 7)"
      ]
     },
     "execution_count": 6,
     "metadata": {},
     "output_type": "execute_result"
    }
   ],
   "source": [
    "data.shape"
   ]
  },
  {
   "cell_type": "code",
   "execution_count": 7,
   "id": "b876948a",
   "metadata": {},
   "outputs": [],
   "source": [
    "data.dropna(inplace=True)"
   ]
  },
  {
   "cell_type": "code",
   "execution_count": 8,
   "id": "c551ab05",
   "metadata": {},
   "outputs": [
    {
     "data": {
      "text/plain": [
       "Sr.No                       0\n",
       "2.5% span length (mm)       0\n",
       "UR (%)                      0\n",
       "Fineness (ug/inch)          0\n",
       "Bundle Strength (cN/tex)    0\n",
       "Trash content (%)           0\n",
       "Yarn Count (tex)            0\n",
       "dtype: int64"
      ]
     },
     "execution_count": 8,
     "metadata": {},
     "output_type": "execute_result"
    }
   ],
   "source": [
    "data.isnull().sum()"
   ]
  },
  {
   "cell_type": "code",
   "execution_count": 9,
   "id": "cb8e3d2e",
   "metadata": {
    "scrolled": true
   },
   "outputs": [
    {
     "data": {
      "text/html": [
       "<div>\n",
       "<style scoped>\n",
       "    .dataframe tbody tr th:only-of-type {\n",
       "        vertical-align: middle;\n",
       "    }\n",
       "\n",
       "    .dataframe tbody tr th {\n",
       "        vertical-align: top;\n",
       "    }\n",
       "\n",
       "    .dataframe thead th {\n",
       "        text-align: right;\n",
       "    }\n",
       "</style>\n",
       "<table border=\"1\" class=\"dataframe\">\n",
       "  <thead>\n",
       "    <tr style=\"text-align: right;\">\n",
       "      <th></th>\n",
       "      <th>Sr.No</th>\n",
       "      <th>2.5% span length (mm)</th>\n",
       "      <th>UR (%)</th>\n",
       "      <th>Fineness (ug/inch)</th>\n",
       "      <th>Bundle Strength (cN/tex)</th>\n",
       "      <th>Trash content (%)</th>\n",
       "      <th>Yarn Count (tex)</th>\n",
       "    </tr>\n",
       "  </thead>\n",
       "  <tbody>\n",
       "    <tr>\n",
       "      <th>Sr.No</th>\n",
       "      <td>1.000000</td>\n",
       "      <td>-0.866484</td>\n",
       "      <td>-0.745321</td>\n",
       "      <td>0.814958</td>\n",
       "      <td>-0.888196</td>\n",
       "      <td>0.850603</td>\n",
       "      <td>-0.834257</td>\n",
       "    </tr>\n",
       "    <tr>\n",
       "      <th>2.5% span length (mm)</th>\n",
       "      <td>-0.866484</td>\n",
       "      <td>1.000000</td>\n",
       "      <td>0.873845</td>\n",
       "      <td>-0.836474</td>\n",
       "      <td>0.928792</td>\n",
       "      <td>-0.928949</td>\n",
       "      <td>0.623695</td>\n",
       "    </tr>\n",
       "    <tr>\n",
       "      <th>UR (%)</th>\n",
       "      <td>-0.745321</td>\n",
       "      <td>0.873845</td>\n",
       "      <td>1.000000</td>\n",
       "      <td>-0.734053</td>\n",
       "      <td>0.799854</td>\n",
       "      <td>-0.824903</td>\n",
       "      <td>0.537202</td>\n",
       "    </tr>\n",
       "    <tr>\n",
       "      <th>Fineness (ug/inch)</th>\n",
       "      <td>0.814958</td>\n",
       "      <td>-0.836474</td>\n",
       "      <td>-0.734053</td>\n",
       "      <td>1.000000</td>\n",
       "      <td>-0.907985</td>\n",
       "      <td>0.933666</td>\n",
       "      <td>-0.545374</td>\n",
       "    </tr>\n",
       "    <tr>\n",
       "      <th>Bundle Strength (cN/tex)</th>\n",
       "      <td>-0.888196</td>\n",
       "      <td>0.928792</td>\n",
       "      <td>0.799854</td>\n",
       "      <td>-0.907985</td>\n",
       "      <td>1.000000</td>\n",
       "      <td>-0.983654</td>\n",
       "      <td>0.652219</td>\n",
       "    </tr>\n",
       "    <tr>\n",
       "      <th>Trash content (%)</th>\n",
       "      <td>0.850603</td>\n",
       "      <td>-0.928949</td>\n",
       "      <td>-0.824903</td>\n",
       "      <td>0.933666</td>\n",
       "      <td>-0.983654</td>\n",
       "      <td>1.000000</td>\n",
       "      <td>-0.605532</td>\n",
       "    </tr>\n",
       "    <tr>\n",
       "      <th>Yarn Count (tex)</th>\n",
       "      <td>-0.834257</td>\n",
       "      <td>0.623695</td>\n",
       "      <td>0.537202</td>\n",
       "      <td>-0.545374</td>\n",
       "      <td>0.652219</td>\n",
       "      <td>-0.605532</td>\n",
       "      <td>1.000000</td>\n",
       "    </tr>\n",
       "  </tbody>\n",
       "</table>\n",
       "</div>"
      ],
      "text/plain": [
       "                             Sr.No  2.5% span length (mm)    UR (%)  \\\n",
       "Sr.No                     1.000000              -0.866484 -0.745321   \n",
       "2.5% span length (mm)    -0.866484               1.000000  0.873845   \n",
       "UR (%)                   -0.745321               0.873845  1.000000   \n",
       "Fineness (ug/inch)        0.814958              -0.836474 -0.734053   \n",
       "Bundle Strength (cN/tex) -0.888196               0.928792  0.799854   \n",
       "Trash content (%)         0.850603              -0.928949 -0.824903   \n",
       "Yarn Count (tex)         -0.834257               0.623695  0.537202   \n",
       "\n",
       "                          Fineness (ug/inch)  Bundle Strength (cN/tex)  \\\n",
       "Sr.No                               0.814958                 -0.888196   \n",
       "2.5% span length (mm)              -0.836474                  0.928792   \n",
       "UR (%)                             -0.734053                  0.799854   \n",
       "Fineness (ug/inch)                  1.000000                 -0.907985   \n",
       "Bundle Strength (cN/tex)           -0.907985                  1.000000   \n",
       "Trash content (%)                   0.933666                 -0.983654   \n",
       "Yarn Count (tex)                   -0.545374                  0.652219   \n",
       "\n",
       "                          Trash content (%)  Yarn Count (tex)  \n",
       "Sr.No                              0.850603         -0.834257  \n",
       "2.5% span length (mm)             -0.928949          0.623695  \n",
       "UR (%)                            -0.824903          0.537202  \n",
       "Fineness (ug/inch)                 0.933666         -0.545374  \n",
       "Bundle Strength (cN/tex)          -0.983654          0.652219  \n",
       "Trash content (%)                  1.000000         -0.605532  \n",
       "Yarn Count (tex)                  -0.605532          1.000000  "
      ]
     },
     "execution_count": 9,
     "metadata": {},
     "output_type": "execute_result"
    }
   ],
   "source": [
    "data.corr()"
   ]
  },
  {
   "cell_type": "code",
   "execution_count": 10,
   "id": "cc09a5fe",
   "metadata": {},
   "outputs": [
    {
     "data": {
      "text/plain": [
       "<seaborn.axisgrid.PairGrid at 0x1b5cbf2ff70>"
      ]
     },
     "execution_count": 10,
     "metadata": {},
     "output_type": "execute_result"
    },
    {
     "data": {
      "image/png": "[encoded data removed]",
      "text/plain": [
       "<Figure size 1750x1750 with 56 Axes>"
      ]
     },
     "metadata": {},
     "output_type": "display_data"
    }
   ],
   "source": [
    "import seaborn as sns\n",
    "sns.pairplot(data)"
   ]
  },
  {
   "cell_type": "code",
   "execution_count": 14,
   "id": "03a7116f",
   "metadata": {},
   "outputs": [
    {
     "data": {
      "text/plain": [
       "<matplotlib.collections.PathCollection at 0x1b5d2539f70>"
      ]
     },
     "execution_count": 14,
     "metadata": {},
     "output_type": "execute_result"
    }
   ],
   "source": [
    "plt.scatter(data[\"2.5% span length (mm)\"],data[\"Yarn Count (tex)\"])"
   ]
  },
  {
   "cell_type": "code",
   "execution_count": 30,
   "id": "29b6b862",
   "metadata": {},
   "outputs": [
    {
     "data": {
      "text/plain": [
       "<AxesSubplot:xlabel='2.5% span length (mm)', ylabel='Yarn Count (tex)'>"
      ]
     },
     "execution_count": 30,
     "metadata": {},
     "output_type": "execute_result"
    }
   ],
   "source": [
    "import seaborn as sns\n",
    "sns.regplot(x=\"2.5% span length (mm)\",y=\"Yarn Count (tex)\",data=data)\n"
   ]
  },
  {
   "cell_type": "code",
   "execution_count": 31,
   "id": "ca55b532",
   "metadata": {},
   "outputs": [],
   "source": [
    "x=data.iloc[:,:-1]\n",
    "y=data.iloc[:,-1]"
   ]
  },
  {
   "cell_type": "code",
   "execution_count": 32,
   "id": "82cf4507",
   "metadata": {
    "scrolled": true
   },
   "outputs": [
    {
     "data": {
      "text/html": [
       "<div>\n",
       "<style scoped>\n",
       "    .dataframe tbody tr th:only-of-type {\n",
       "        vertical-align: middle;\n",
       "    }\n",
       "\n",
       "    .dataframe tbody tr th {\n",
       "        vertical-align: top;\n",
       "    }\n",
       "\n",
       "    .dataframe thead th {\n",
       "        text-align: right;\n",
       "    }\n",
       "</style>\n",
       "<table border=\"1\" class=\"dataframe\">\n",
       "  <thead>\n",
       "    <tr style=\"text-align: right;\">\n",
       "      <th></th>\n",
       "      <th>Sr.No</th>\n",
       "      <th>2.5% span length (mm)</th>\n",
       "      <th>UR (%)</th>\n",
       "      <th>Fineness (ug/inch)</th>\n",
       "      <th>Bundle Strength (cN/tex)</th>\n",
       "      <th>Trash content (%)</th>\n",
       "    </tr>\n",
       "  </thead>\n",
       "  <tbody>\n",
       "    <tr>\n",
       "      <th>0</th>\n",
       "      <td>1</td>\n",
       "      <td>28.32</td>\n",
       "      <td>49.6</td>\n",
       "      <td>4.18</td>\n",
       "      <td>22.25</td>\n",
       "      <td>5.32</td>\n",
       "    </tr>\n",
       "    <tr>\n",
       "      <th>1</th>\n",
       "      <td>2</td>\n",
       "      <td>27.98</td>\n",
       "      <td>49.6</td>\n",
       "      <td>3.80</td>\n",
       "      <td>21.84</td>\n",
       "      <td>5.60</td>\n",
       "    </tr>\n",
       "    <tr>\n",
       "      <th>2</th>\n",
       "      <td>3</td>\n",
       "      <td>28.53</td>\n",
       "      <td>48.0</td>\n",
       "      <td>4.50</td>\n",
       "      <td>22.17</td>\n",
       "      <td>6.30</td>\n",
       "    </tr>\n",
       "    <tr>\n",
       "      <th>3</th>\n",
       "      <td>4</td>\n",
       "      <td>29.58</td>\n",
       "      <td>50.0</td>\n",
       "      <td>4.24</td>\n",
       "      <td>22.17</td>\n",
       "      <td>5.38</td>\n",
       "    </tr>\n",
       "    <tr>\n",
       "      <th>4</th>\n",
       "      <td>5</td>\n",
       "      <td>29.20</td>\n",
       "      <td>50.5</td>\n",
       "      <td>4.25</td>\n",
       "      <td>22.27</td>\n",
       "      <td>5.30</td>\n",
       "    </tr>\n",
       "  </tbody>\n",
       "</table>\n",
       "</div>"
      ],
      "text/plain": [
       "   Sr.No  2.5% span length (mm)  UR (%)  Fineness (ug/inch)  \\\n",
       "0      1                  28.32    49.6                4.18   \n",
       "1      2                  27.98    49.6                3.80   \n",
       "2      3                  28.53    48.0                4.50   \n",
       "3      4                  29.58    50.0                4.24   \n",
       "4      5                  29.20    50.5                4.25   \n",
       "\n",
       "   Bundle Strength (cN/tex)  Trash content (%)  \n",
       "0                     22.25               5.32  \n",
       "1                     21.84               5.60  \n",
       "2                     22.17               6.30  \n",
       "3                     22.17               5.38  \n",
       "4                     22.27               5.30  "
      ]
     },
     "execution_count": 32,
     "metadata": {},
     "output_type": "execute_result"
    }
   ],
   "source": [
    "x.head()"
   ]
  },
  {
   "cell_type": "code",
   "execution_count": 33,
   "id": "4f035a52",
   "metadata": {},
   "outputs": [
    {
     "data": {
      "text/plain": [
       "0    36.91\n",
       "1    36.91\n",
       "2    36.91\n",
       "3    36.91\n",
       "4    36.91\n",
       "Name: Yarn Count (tex), dtype: float64"
      ]
     },
     "execution_count": 33,
     "metadata": {},
     "output_type": "execute_result"
    }
   ],
   "source": [
    "y.head()"
   ]
  },
  {
   "cell_type": "code",
   "execution_count": 34,
   "id": "c40b1ed5",
   "metadata": {},
   "outputs": [],
   "source": [
    "from sklearn.model_selection import train_test_split\n",
    "x_train,x_test,y_train,y_test=train_test_split(x,y,test_size=0.3,random_state=42)\n"
   ]
  },
  {
   "cell_type": "code",
   "execution_count": 35,
   "id": "a24a1436",
   "metadata": {},
   "outputs": [
    {
     "data": {
      "text/html": [
       "<div>\n",
       "<style scoped>\n",
       "    .dataframe tbody tr th:only-of-type {\n",
       "        vertical-align: middle;\n",
       "    }\n",
       "\n",
       "    .dataframe tbody tr th {\n",
       "        vertical-align: top;\n",
       "    }\n",
       "\n",
       "    .dataframe thead th {\n",
       "        text-align: right;\n",
       "    }\n",
       "</style>\n",
       "<table border=\"1\" class=\"dataframe\">\n",
       "  <thead>\n",
       "    <tr style=\"text-align: right;\">\n",
       "      <th></th>\n",
       "      <th>Sr.No</th>\n",
       "      <th>2.5% span length (mm)</th>\n",
       "      <th>UR (%)</th>\n",
       "      <th>Fineness (ug/inch)</th>\n",
       "      <th>Bundle Strength (cN/tex)</th>\n",
       "      <th>Trash content (%)</th>\n",
       "    </tr>\n",
       "  </thead>\n",
       "  <tbody>\n",
       "    <tr>\n",
       "      <th>11</th>\n",
       "      <td>12</td>\n",
       "      <td>28.32</td>\n",
       "      <td>50.2</td>\n",
       "      <td>4.44</td>\n",
       "      <td>20.44</td>\n",
       "      <td>5.52</td>\n",
       "    </tr>\n",
       "    <tr>\n",
       "      <th>3</th>\n",
       "      <td>4</td>\n",
       "      <td>29.58</td>\n",
       "      <td>50.0</td>\n",
       "      <td>4.24</td>\n",
       "      <td>22.17</td>\n",
       "      <td>5.38</td>\n",
       "    </tr>\n",
       "    <tr>\n",
       "      <th>18</th>\n",
       "      <td>19</td>\n",
       "      <td>24.17</td>\n",
       "      <td>46.3</td>\n",
       "      <td>5.10</td>\n",
       "      <td>14.65</td>\n",
       "      <td>14.40</td>\n",
       "    </tr>\n",
       "    <tr>\n",
       "      <th>16</th>\n",
       "      <td>17</td>\n",
       "      <td>25.40</td>\n",
       "      <td>48.0</td>\n",
       "      <td>5.44</td>\n",
       "      <td>15.36</td>\n",
       "      <td>14.20</td>\n",
       "    </tr>\n",
       "    <tr>\n",
       "      <th>13</th>\n",
       "      <td>14</td>\n",
       "      <td>24.67</td>\n",
       "      <td>47.3</td>\n",
       "      <td>5.50</td>\n",
       "      <td>15.70</td>\n",
       "      <td>14.40</td>\n",
       "    </tr>\n",
       "    <tr>\n",
       "      <th>2</th>\n",
       "      <td>3</td>\n",
       "      <td>28.53</td>\n",
       "      <td>48.0</td>\n",
       "      <td>4.50</td>\n",
       "      <td>22.17</td>\n",
       "      <td>6.30</td>\n",
       "    </tr>\n",
       "    <tr>\n",
       "      <th>9</th>\n",
       "      <td>10</td>\n",
       "      <td>28.53</td>\n",
       "      <td>48.0</td>\n",
       "      <td>4.50</td>\n",
       "      <td>22.17</td>\n",
       "      <td>6.30</td>\n",
       "    </tr>\n",
       "    <tr>\n",
       "      <th>19</th>\n",
       "      <td>20</td>\n",
       "      <td>22.40</td>\n",
       "      <td>45.5</td>\n",
       "      <td>5.40</td>\n",
       "      <td>15.25</td>\n",
       "      <td>14.40</td>\n",
       "    </tr>\n",
       "    <tr>\n",
       "      <th>4</th>\n",
       "      <td>5</td>\n",
       "      <td>29.20</td>\n",
       "      <td>50.5</td>\n",
       "      <td>4.25</td>\n",
       "      <td>22.27</td>\n",
       "      <td>5.30</td>\n",
       "    </tr>\n",
       "    <tr>\n",
       "      <th>12</th>\n",
       "      <td>13</td>\n",
       "      <td>25.40</td>\n",
       "      <td>48.0</td>\n",
       "      <td>5.44</td>\n",
       "      <td>15.36</td>\n",
       "      <td>14.20</td>\n",
       "    </tr>\n",
       "    <tr>\n",
       "      <th>7</th>\n",
       "      <td>8</td>\n",
       "      <td>28.32</td>\n",
       "      <td>49.6</td>\n",
       "      <td>4.18</td>\n",
       "      <td>22.25</td>\n",
       "      <td>5.32</td>\n",
       "    </tr>\n",
       "    <tr>\n",
       "      <th>10</th>\n",
       "      <td>11</td>\n",
       "      <td>27.67</td>\n",
       "      <td>49.0</td>\n",
       "      <td>4.42</td>\n",
       "      <td>20.73</td>\n",
       "      <td>5.73</td>\n",
       "    </tr>\n",
       "    <tr>\n",
       "      <th>14</th>\n",
       "      <td>15</td>\n",
       "      <td>25.20</td>\n",
       "      <td>46.0</td>\n",
       "      <td>5.00</td>\n",
       "      <td>14.72</td>\n",
       "      <td>13.87</td>\n",
       "    </tr>\n",
       "    <tr>\n",
       "      <th>6</th>\n",
       "      <td>7</td>\n",
       "      <td>27.94</td>\n",
       "      <td>48.8</td>\n",
       "      <td>3.90</td>\n",
       "      <td>21.46</td>\n",
       "      <td>5.48</td>\n",
       "    </tr>\n",
       "  </tbody>\n",
       "</table>\n",
       "</div>"
      ],
      "text/plain": [
       "    Sr.No  2.5% span length (mm)  UR (%)  Fineness (ug/inch)  \\\n",
       "11     12                  28.32    50.2                4.44   \n",
       "3       4                  29.58    50.0                4.24   \n",
       "18     19                  24.17    46.3                5.10   \n",
       "16     17                  25.40    48.0                5.44   \n",
       "13     14                  24.67    47.3                5.50   \n",
       "2       3                  28.53    48.0                4.50   \n",
       "9      10                  28.53    48.0                4.50   \n",
       "19     20                  22.40    45.5                5.40   \n",
       "4       5                  29.20    50.5                4.25   \n",
       "12     13                  25.40    48.0                5.44   \n",
       "7       8                  28.32    49.6                4.18   \n",
       "10     11                  27.67    49.0                4.42   \n",
       "14     15                  25.20    46.0                5.00   \n",
       "6       7                  27.94    48.8                3.90   \n",
       "\n",
       "    Bundle Strength (cN/tex)  Trash content (%)  \n",
       "11                     20.44               5.52  \n",
       "3                      22.17               5.38  \n",
       "18                     14.65              14.40  \n",
       "16                     15.36              14.20  \n",
       "13                     15.70              14.40  \n",
       "2                      22.17               6.30  \n",
       "9                      22.17               6.30  \n",
       "19                     15.25              14.40  \n",
       "4                      22.27               5.30  \n",
       "12                     15.36              14.20  \n",
       "7                      22.25               5.32  \n",
       "10                     20.73               5.73  \n",
       "14                     14.72              13.87  \n",
       "6                      21.46               5.48  "
      ]
     },
     "execution_count": 35,
     "metadata": {},
     "output_type": "execute_result"
    }
   ],
   "source": [
    "x_train"
   ]
  },
  {
   "cell_type": "code",
   "execution_count": 36,
   "id": "69a25de0",
   "metadata": {},
   "outputs": [
    {
     "data": {
      "text/html": [
       "<div>\n",
       "<style scoped>\n",
       "    .dataframe tbody tr th:only-of-type {\n",
       "        vertical-align: middle;\n",
       "    }\n",
       "\n",
       "    .dataframe tbody tr th {\n",
       "        vertical-align: top;\n",
       "    }\n",
       "\n",
       "    .dataframe thead th {\n",
       "        text-align: right;\n",
       "    }\n",
       "</style>\n",
       "<table border=\"1\" class=\"dataframe\">\n",
       "  <thead>\n",
       "    <tr style=\"text-align: right;\">\n",
       "      <th></th>\n",
       "      <th>Sr.No</th>\n",
       "      <th>2.5% span length (mm)</th>\n",
       "      <th>UR (%)</th>\n",
       "      <th>Fineness (ug/inch)</th>\n",
       "      <th>Bundle Strength (cN/tex)</th>\n",
       "      <th>Trash content (%)</th>\n",
       "    </tr>\n",
       "  </thead>\n",
       "  <tbody>\n",
       "    <tr>\n",
       "      <th>0</th>\n",
       "      <td>1</td>\n",
       "      <td>28.32</td>\n",
       "      <td>49.6</td>\n",
       "      <td>4.18</td>\n",
       "      <td>22.25</td>\n",
       "      <td>5.32</td>\n",
       "    </tr>\n",
       "    <tr>\n",
       "      <th>17</th>\n",
       "      <td>18</td>\n",
       "      <td>25.05</td>\n",
       "      <td>47.5</td>\n",
       "      <td>5.25</td>\n",
       "      <td>15.19</td>\n",
       "      <td>13.18</td>\n",
       "    </tr>\n",
       "    <tr>\n",
       "      <th>15</th>\n",
       "      <td>16</td>\n",
       "      <td>25.48</td>\n",
       "      <td>48.0</td>\n",
       "      <td>5.48</td>\n",
       "      <td>15.63</td>\n",
       "      <td>13.75</td>\n",
       "    </tr>\n",
       "    <tr>\n",
       "      <th>1</th>\n",
       "      <td>2</td>\n",
       "      <td>27.98</td>\n",
       "      <td>49.6</td>\n",
       "      <td>3.80</td>\n",
       "      <td>21.84</td>\n",
       "      <td>5.60</td>\n",
       "    </tr>\n",
       "    <tr>\n",
       "      <th>8</th>\n",
       "      <td>9</td>\n",
       "      <td>27.98</td>\n",
       "      <td>49.6</td>\n",
       "      <td>3.80</td>\n",
       "      <td>21.84</td>\n",
       "      <td>5.60</td>\n",
       "    </tr>\n",
       "    <tr>\n",
       "      <th>5</th>\n",
       "      <td>6</td>\n",
       "      <td>27.67</td>\n",
       "      <td>49.0</td>\n",
       "      <td>4.42</td>\n",
       "      <td>21.71</td>\n",
       "      <td>5.73</td>\n",
       "    </tr>\n",
       "  </tbody>\n",
       "</table>\n",
       "</div>"
      ],
      "text/plain": [
       "    Sr.No  2.5% span length (mm)  UR (%)  Fineness (ug/inch)  \\\n",
       "0       1                  28.32    49.6                4.18   \n",
       "17     18                  25.05    47.5                5.25   \n",
       "15     16                  25.48    48.0                5.48   \n",
       "1       2                  27.98    49.6                3.80   \n",
       "8       9                  27.98    49.6                3.80   \n",
       "5       6                  27.67    49.0                4.42   \n",
       "\n",
       "    Bundle Strength (cN/tex)  Trash content (%)  \n",
       "0                      22.25               5.32  \n",
       "17                     15.19              13.18  \n",
       "15                     15.63              13.75  \n",
       "1                      21.84               5.60  \n",
       "8                      21.84               5.60  \n",
       "5                      21.71               5.73  "
      ]
     },
     "execution_count": 36,
     "metadata": {},
     "output_type": "execute_result"
    }
   ],
   "source": [
    "x_test"
   ]
  },
  {
   "cell_type": "code",
   "execution_count": 37,
   "id": "8e1e3581",
   "metadata": {},
   "outputs": [
    {
     "data": {
      "text/plain": [
       "0     36.91\n",
       "17    28.80\n",
       "15    28.80\n",
       "1     36.91\n",
       "8     29.53\n",
       "5     36.91\n",
       "Name: Yarn Count (tex), dtype: float64"
      ]
     },
     "execution_count": 37,
     "metadata": {},
     "output_type": "execute_result"
    }
   ],
   "source": [
    "y_test"
   ]
  },
  {
   "cell_type": "code",
   "execution_count": 38,
   "id": "b8e531e2",
   "metadata": {},
   "outputs": [],
   "source": [
    "from sklearn.preprocessing import StandardScaler\n",
    "scaler=StandardScaler()"
   ]
  },
  {
   "cell_type": "code",
   "execution_count": 39,
   "id": "5eb0fd40",
   "metadata": {},
   "outputs": [],
   "source": [
    "x_train=scaler.fit_transform(x_train)"
   ]
  },
  {
   "cell_type": "code",
   "execution_count": 40,
   "id": "8de6b173",
   "metadata": {},
   "outputs": [],
   "source": [
    "x_test=scaler.transform(x_test)"
   ]
  },
  {
   "cell_type": "code",
   "execution_count": 41,
   "id": "2e633868",
   "metadata": {},
   "outputs": [
    {
     "data": {
      "text/plain": [
       "array([[ 0.13623422,  0.7096607 ,  1.30015225, -0.55407407,  0.46660012,\n",
       "        -0.89795832],\n",
       "       [-1.38958903,  1.30154793,  1.16825275, -0.92790718,  0.99321031,\n",
       "        -0.93084319],\n",
       "       [ 1.47132957, -1.23980913, -1.27188807,  0.67957519, -1.29586984,\n",
       "         1.18788208],\n",
       "       [ 1.08987375, -0.66201445, -0.15074229,  1.31509147, -1.07974659,\n",
       "         1.14090369],\n",
       "       [ 0.51769003, -1.00493324, -0.61239055,  1.4272414 , -0.97625094,\n",
       "         1.18788208],\n",
       "       [-1.58031694,  0.80830858, -0.15074229, -0.44192414,  0.99321031,\n",
       "        -0.71474261],\n",
       "       [-0.24522159,  0.80830858, -0.15074229, -0.44192414,  0.99321031,\n",
       "        -0.71474261],\n",
       "       [ 1.66205747, -2.07126975, -1.79948609,  1.24032485, -1.11323047,\n",
       "         1.18788208],\n",
       "       [-1.19886113,  1.12304226,  1.49800151, -0.90921552,  1.02365021,\n",
       "        -0.94963454],\n",
       "       [ 0.32696213, -0.66201445, -0.15074229,  1.31509147, -1.07974659,\n",
       "         1.14090369],\n",
       "       [-0.62667741,  0.7096607 ,  0.90445374, -1.04005711,  1.01756223,\n",
       "        -0.9449367 ],\n",
       "       [-0.05449369,  0.40432206,  0.50875523, -0.59145738,  0.55487581,\n",
       "        -0.84863101],\n",
       "       [ 0.70841794, -0.75596481, -1.46973733,  0.49265863, -1.27456192,\n",
       "         1.06338935],\n",
       "       [-0.81740531,  0.53115503,  0.37685573, -1.56342346,  0.77708705,\n",
       "        -0.90735399]])"
      ]
     },
     "execution_count": 41,
     "metadata": {},
     "output_type": "execute_result"
    }
   ],
   "source": [
    "x_train\n"
   ]
  },
  {
   "cell_type": "code",
   "execution_count": 42,
   "id": "9953f8bc",
   "metadata": {},
   "outputs": [
    {
     "data": {
      "text/plain": [
       "array([[-1.96177275,  0.7096607 ,  0.90445374, -1.04005711,  1.01756223,\n",
       "        -0.9449367 ],\n",
       "       [ 1.28060166, -0.82642757, -0.48049105,  0.95995002, -1.13149441,\n",
       "         0.90131391],\n",
       "       [ 0.89914585, -0.62443431, -0.15074229,  1.38985809, -0.99755887,\n",
       "         1.03520232],\n",
       "       [-1.77104485,  0.5499451 ,  0.90445374, -1.75034002,  0.89275865,\n",
       "        -0.87916696],\n",
       "       [-0.4359495 ,  0.5499451 ,  0.90445374, -1.75034002,  0.89275865,\n",
       "        -0.87916696],\n",
       "       [-1.00813322,  0.40432206,  0.50875523, -0.59145738,  0.85318679,\n",
       "        -0.84863101]])"
      ]
     },
     "execution_count": 42,
     "metadata": {},
     "output_type": "execute_result"
    }
   ],
   "source": [
    "x_test"
   ]
  },
  {
   "cell_type": "code",
   "execution_count": 56,
   "id": "806839af",
   "metadata": {},
   "outputs": [],
   "source": [
    "from sklearn.linear_model import LinearRegression"
   ]
  },
  {
   "cell_type": "code",
   "execution_count": 58,
   "id": "62d12912",
   "metadata": {},
   "outputs": [
    {
     "data": {
      "text/plain": [
       "LinearRegression()"
      ]
     },
     "execution_count": 58,
     "metadata": {},
     "output_type": "execute_result"
    }
   ],
   "source": [
    "regression=LinearRegression()\n",
    "regression.fit(x_train,y_train)"
   ]
  },
  {
   "cell_type": "raw",
   "id": "668c5090",
   "metadata": {},
   "source": []
  },
  {
   "cell_type": "code",
   "execution_count": 59,
   "id": "b9c9f8a4",
   "metadata": {
    "scrolled": true
   },
   "outputs": [
    {
     "name": "stdout",
     "output_type": "stream",
     "text": [
      "[-3.68678633 -0.44832776 -0.03657852  1.03780712  0.05564471 -0.02158269]\n"
     ]
    }
   ],
   "source": [
    "###print the coefficients \n",
    "print(regression.coef_)"
   ]
  },
  {
   "cell_type": "code",
   "execution_count": 60,
   "id": "36db7870",
   "metadata": {},
   "outputs": [
    {
     "name": "stdout",
     "output_type": "stream",
     "text": [
      "30.79857142857143\n"
     ]
    }
   ],
   "source": [
    "print(regression.intercept_)"
   ]
  },
  {
   "cell_type": "code",
   "execution_count": 54,
   "id": "11fddae1",
   "metadata": {},
   "outputs": [
    {
     "data": {
      "text/plain": [
       "{'copy_X': True,\n",
       " 'fit_intercept': True,\n",
       " 'n_jobs': None,\n",
       " 'normalize': 'deprecated',\n",
       " 'positive': False}"
      ]
     },
     "execution_count": 54,
     "metadata": {},
     "output_type": "execute_result"
    }
   ],
   "source": [
    "regression.get_params()"
   ]
  },
  {
   "cell_type": "code",
   "execution_count": 61,
   "id": "d1c7b5ac",
   "metadata": {},
   "outputs": [],
   "source": [
    "###prediction with test data\n",
    "\n",
    "reg_pred=regression.predict(x_test)"
   ]
  },
  {
   "cell_type": "code",
   "execution_count": 94,
   "id": "c947101a",
   "metadata": {},
   "outputs": [
    {
     "data": {
      "text/plain": [
       "array([36.67760178, 27.37918132, 29.13363128, 35.30053288, 30.37832161,\n",
       "       33.76743728])"
      ]
     },
     "execution_count": 94,
     "metadata": {},
     "output_type": "execute_result"
    }
   ],
   "source": [
    "reg_pred\n"
   ]
  },
  {
   "cell_type": "code",
   "execution_count": 66,
   "id": "914062f3",
   "metadata": {},
   "outputs": [
    {
     "data": {
      "text/plain": [
       "<matplotlib.collections.PathCollection at 0x2559ad18ca0>"
      ]
     },
     "execution_count": 66,
     "metadata": {},
     "output_type": "execute_result"
    }
   ],
   "source": [
    "plt.scatter(y_test,reg_pred)"
   ]
  },
  {
   "cell_type": "code",
   "execution_count": 66,
   "id": "258d1fab",
   "metadata": {},
   "outputs": [],
   "source": [
    "residuals = y_test-reg_pred"
   ]
  },
  {
   "cell_type": "code",
   "execution_count": 68,
   "id": "a1203e5c",
   "metadata": {},
   "outputs": [
    {
     "data": {
      "text/plain": [
       "0     0.232398\n",
       "17    1.420819\n",
       "15   -0.333631\n",
       "1     1.609467\n",
       "8    -0.848322\n",
       "5     3.142563\n",
       "Name: Yarn Count (tex), dtype: float64"
      ]
     },
     "execution_count": 68,
     "metadata": {},
     "output_type": "execute_result"
    }
   ],
   "source": [
    "residuals\n"
   ]
  },
  {
   "cell_type": "code",
   "execution_count": 67,
   "id": "6fc64774",
   "metadata": {},
   "outputs": [
    {
     "data": {
      "text/plain": [
       "<seaborn.axisgrid.FacetGrid at 0x1b5d2f8f9d0>"
      ]
     },
     "execution_count": 67,
     "metadata": {},
     "output_type": "execute_result"
    }
   ],
   "source": [
    "sns.displot(residuals,kind=\"kde\")"
   ]
  },
  {
   "cell_type": "code",
   "execution_count": 69,
   "id": "6aefe42c",
   "metadata": {},
   "outputs": [
    {
     "data": {
      "text/plain": [
       "<matplotlib.collections.PathCollection at 0x1b5ca402be0>"
      ]
     },
     "execution_count": 69,
     "metadata": {},
     "output_type": "execute_result"
    }
   ],
   "source": [
    "plt.scatter(reg_pred,residuals)"
   ]
  },
  {
   "cell_type": "code",
   "execution_count": 72,
   "id": "eeb1983b",
   "metadata": {},
   "outputs": [
    {
     "name": "stdout",
     "output_type": "stream",
     "text": [
      "1.2645332721688873\n",
      "2.5616298195595366\n",
      "1.600509237573947\n"
     ]
    }
   ],
   "source": [
    "from sklearn.metrics import mean_squared_error\n",
    "from sklearn.metrics import mean_absolute_error\n",
    "\n",
    "print(mean_absolute_error(y_test,reg_pred))\n",
    "print(mean_squared_error(y_test,reg_pred))\n",
    "print(np.sqrt(mean_squared_error(y_test,reg_pred)))"
   ]
  },
  {
   "cell_type": "code",
   "execution_count": 73,
   "id": "375424e4",
   "metadata": {},
   "outputs": [
    {
     "name": "stdout",
     "output_type": "stream",
     "text": [
      "0.8350562349637458\n"
     ]
    }
   ],
   "source": [
    "from sklearn.metrics import r2_score\n",
    "score=r2_score(y_test,reg_pred)\n",
    "print(score)"
   ]
  },
  {
   "cell_type": "code",
   "execution_count": 75,
   "id": "1105963a",
   "metadata": {},
   "outputs": [
    {
     "data": {
      "text/plain": [
       "1.824718825181271"
      ]
     },
     "execution_count": 75,
     "metadata": {},
     "output_type": "execute_result"
    }
   ],
   "source": [
    "1-(1-score)*(len(y_test)-1)/(len(y_test)-x_test.shape[1]-1)"
   ]
  },
  {
   "cell_type": "code",
   "execution_count": 110,
   "id": "f0a5b118",
   "metadata": {},
   "outputs": [
    {
     "data": {
      "text/plain": [
       "array([[ 0.13623422],\n",
       "       [ 0.7096607 ],\n",
       "       [ 1.30015225],\n",
       "       [-0.55407407],\n",
       "       [ 0.46660012],\n",
       "       [-0.89795832],\n",
       "       [-1.38958903],\n",
       "       [ 1.30154793],\n",
       "       [ 1.16825275],\n",
       "       [-0.92790718],\n",
       "       [ 0.99321031],\n",
       "       [-0.93084319],\n",
       "       [ 1.47132957],\n",
       "       [-1.23980913],\n",
       "       [-1.27188807],\n",
       "       [ 0.67957519],\n",
       "       [-1.29586984],\n",
       "       [ 1.18788208],\n",
       "       [ 1.08987375],\n",
       "       [-0.66201445],\n",
       "       [-0.15074229],\n",
       "       [ 1.31509147],\n",
       "       [-1.07974659],\n",
       "       [ 1.14090369],\n",
       "       [ 0.51769003],\n",
       "       [-1.00493324],\n",
       "       [-0.61239055],\n",
       "       [ 1.4272414 ],\n",
       "       [-0.97625094],\n",
       "       [ 1.18788208],\n",
       "       [-1.58031694],\n",
       "       [ 0.80830858],\n",
       "       [-0.15074229],\n",
       "       [-0.44192414],\n",
       "       [ 0.99321031],\n",
       "       [-0.71474261],\n",
       "       [-0.24522159],\n",
       "       [ 0.80830858],\n",
       "       [-0.15074229],\n",
       "       [-0.44192414],\n",
       "       [ 0.99321031],\n",
       "       [-0.71474261],\n",
       "       [ 1.66205747],\n",
       "       [-2.07126975],\n",
       "       [-1.79948609],\n",
       "       [ 1.24032485],\n",
       "       [-1.11323047],\n",
       "       [ 1.18788208],\n",
       "       [-1.19886113],\n",
       "       [ 1.12304226],\n",
       "       [ 1.49800151],\n",
       "       [-0.90921552],\n",
       "       [ 1.02365021],\n",
       "       [-0.94963454],\n",
       "       [ 0.32696213],\n",
       "       [-0.66201445],\n",
       "       [-0.15074229],\n",
       "       [ 1.31509147],\n",
       "       [-1.07974659],\n",
       "       [ 1.14090369],\n",
       "       [-0.62667741],\n",
       "       [ 0.7096607 ],\n",
       "       [ 0.90445374],\n",
       "       [-1.04005711],\n",
       "       [ 1.01756223],\n",
       "       [-0.9449367 ],\n",
       "       [-0.05449369],\n",
       "       [ 0.40432206],\n",
       "       [ 0.50875523],\n",
       "       [-0.59145738],\n",
       "       [ 0.55487581],\n",
       "       [-0.84863101],\n",
       "       [ 0.70841794],\n",
       "       [-0.75596481],\n",
       "       [-1.46973733],\n",
       "       [ 0.49265863],\n",
       "       [-1.27456192],\n",
       "       [ 1.06338935],\n",
       "       [-0.81740531],\n",
       "       [ 0.53115503],\n",
       "       [ 0.37685573],\n",
       "       [-1.56342346],\n",
       "       [ 0.77708705],\n",
       "       [-0.90735399]])"
      ]
     },
     "execution_count": 110,
     "metadata": {},
     "output_type": "execute_result"
    }
   ],
   "source": [
    "x_train.reshape(-1, 1)"
   ]
  },
  {
   "cell_type": "code",
   "execution_count": 114,
   "id": "035df00f",
   "metadata": {},
   "outputs": [
    {
     "data": {
      "text/plain": [
       "array([29.4009089 , 34.40780458, 26.58398031, 28.3628585 , 30.7641391 ,\n",
       "       35.88005003, 30.95783876, 26.86498582, 33.79409658, 31.17555065,\n",
       "       31.75539051, 30.23497266, 28.99687789, 32.00054572])"
      ]
     },
     "execution_count": 114,
     "metadata": {},
     "output_type": "execute_result"
    }
   ],
   "source": [
    "regression.predict(x_train)"
   ]
  },
  {
   "cell_type": "code",
   "execution_count": 119,
   "id": "feb127bb",
   "metadata": {},
   "outputs": [],
   "source": [
    "import pickle\n",
    "pickle.dump(regression,open('regmodel.pkl','wb'))\n",
    "pickled_model=pickle.load(open('regmodel.pkl','rb'))"
   ]
  },
  {
   "cell_type": "code",
   "execution_count": 120,
   "id": "a468b3aa",
   "metadata": {},
   "outputs": [
    {
     "data": {
      "text/plain": [
       "array([29.4009089 , 34.40780458, 26.58398031, 28.3628585 , 30.7641391 ,\n",
       "       35.88005003, 30.95783876, 26.86498582, 33.79409658, 31.17555065,\n",
       "       31.75539051, 30.23497266, 28.99687789, 32.00054572])"
      ]
     },
     "execution_count": 120,
     "metadata": {},
     "output_type": "execute_result"
    }
   ],
   "source": [
    "pickled_model.predict(x_train)"
   ]
  },
  {
   "cell_type": "code",
   "execution_count": null,
   "id": "c661b9b9",
   "metadata": {},
   "outputs": [],
   "source": []
  },
  {
   "cell_type": "code",
   "execution_count": null,
   "id": "ca593924",
   "metadata": {},
   "outputs": [],
   "source": []
  },
  {
   "cell_type": "code",
   "execution_count": null,
   "id": "f6e6acd1",
   "metadata": {},
   "outputs": [],
   "source": []
  }
 ],
 "metadata": {
  "kernelspec": {
   "display_name": "ml",
   "language": "python",
   "name": "ml"
  },
  "language_info": {
   "codemirror_mode": {
    "name": "ipython",
    "version": 3
   },
   "file_extension": ".py",
   "mimetype": "text/x-python",
   "name": "python",
   "nbconvert_exporter": "python",
   "pygments_lexer": "ipython3",
   "version": "3.9.13"
  }
 },
 "nbformat": 4,
 "nbformat_minor": 5
}
